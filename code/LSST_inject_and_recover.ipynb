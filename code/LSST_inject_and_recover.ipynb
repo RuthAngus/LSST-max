{
 "cells": [
  {
   "cell_type": "markdown",
   "metadata": {},
   "source": [
    "# Recovering rotation periods in simulated LSST data"
   ]
  },
  {
   "cell_type": "code",
   "execution_count": 1,
   "metadata": {
    "collapsed": false
   },
   "outputs": [],
   "source": [
    "import numpy as np\n",
    "import matplotlib.pyplot as plt\n",
    "from gatspy.periodic import LombScargle\n",
    "import sys\n",
    "%matplotlib inline\n",
    "from toy_simulator import simulate_LSST\n",
    "from trilegal_models import random_stars\n",
    "import simple_gyro as sg"
   ]
  },
  {
   "cell_type": "markdown",
   "metadata": {},
   "source": [
    "Randomly select targets from a TRILEGAL output."
   ]
  },
  {
   "cell_type": "code",
   "execution_count": 2,
   "metadata": {
    "collapsed": true
   },
   "outputs": [],
   "source": [
    "fname = \"output574523944248.dat\"\n",
    "N = 100\n",
    "logAges, bvs = random_stars(fname, N)"
   ]
  },
  {
   "cell_type": "markdown",
   "metadata": {},
   "source": [
    "Calculate periods from ages and colours for cool stars"
   ]
  },
  {
   "cell_type": "code",
   "execution_count": 3,
   "metadata": {
    "collapsed": false
   },
   "outputs": [],
   "source": [
    "m = bvs > .4  # select only cool stars\n",
    "cool_ages = 10**logAges[m] * 1e-9\n",
    "cool_ps = sg.period(cool_ages, bvs[m])"
   ]
  },
  {
   "cell_type": "markdown",
   "metadata": {},
   "source": [
    "Draw from a sum of two Gaussians (modelled in another notebook) that describes the period distribution for hot stars. Approximations: I have lumped all stars with colour < 0.4 in together AND I actually used teff = 6250, not B-V = 0.4 in the other notebook."
   ]
  },
  {
   "cell_type": "code",
   "execution_count": 12,
   "metadata": {
    "collapsed": false
   },
   "outputs": [],
   "source": [
    "hot_ages = 10**logAges[~m] * 1e-9 # select hot stars\n",
    "# copy parameters from hot_stars ipython notebook\n",
    "A1, A2, mu1, mu2, sig1, sig2 = 254.11651209, 49.8149765, 3.00751724, 3.73399554, 2.26525979, 8.31739725\n",
    "\n",
    "hot_ps = np.zeros_like(hot_ages)\n",
    "hot_ps1 = np.random.randn(int(len(hot_ages)*(1 - A2/A1)))*sig1 + mu1  # mode 1\n",
    "hot_ps2 = np.random.randn(int(len(hot_ages)*(A2/A1)))*sig2 + mu2  # mode 2\n",
    "hot_ps[:len(hot_ps1)] = hot_ps1\n",
    "hot_ps[len(hot_ps1):len(hot_ps2)] = hot_ps2\n",
    "tot = len(hot_ps1) + len(hot_ps2)\n",
    "hot_ps[tot:] = np.random.randn(len(hot_ps)-tot)*sig2 + mu2\n",
    "age = np.concatenate((cool_ages, hot_ages))\n",
    "ps = np.concatenate((cool_ps, hot_ps))"
   ]
  },
  {
   "cell_type": "markdown",
   "metadata": {},
   "source": [
    "Make histograms of the ages and periods"
   ]
  },
  {
   "cell_type": "code",
   "execution_count": 13,
   "metadata": {
    "collapsed": false
   },
   "outputs": [
    {
     "data": {
      "text/plain": [
       "<matplotlib.text.Text at 0x1984294a8>"
      ]
     },
     "execution_count": 13,
     "metadata": {},
     "output_type": "execute_result"
    },
    {
     "data": {
      "image/png": "[encoded data removed]",
      "text/plain": [
       "<matplotlib.figure.Figure at 0x198412cc0>"
      ]
     },
     "metadata": {},
     "output_type": "display_data"
    }
   ],
   "source": [
    "plt.hist(age)\n",
    "plt.xlabel(\"Age (Gyr)\")"
   ]
  },
  {
   "cell_type": "code",
   "execution_count": 14,
   "metadata": {
    "collapsed": false
   },
   "outputs": [
    {
     "data": {
      "text/plain": [
       "<matplotlib.text.Text at 0x1983dc780>"
      ]
     },
     "execution_count": 14,
     "metadata": {},
     "output_type": "execute_result"
    },
    {
     "data": {
      "image/png": "[encoded data removed]",
      "text/plain": [
       "<matplotlib.figure.Figure at 0x1983e40b8>"
      ]
     },
     "metadata": {},
     "output_type": "display_data"
    }
   ],
   "source": [
    "plt.hist(ps)\n",
    "plt.xlabel(\"Period (days)\")"
   ]
  },
  {
   "cell_type": "code",
   "execution_count": 15,
   "metadata": {
    "collapsed": true
   },
   "outputs": [],
   "source": [
    "## Arrays of random (log-normal) periods and (uniform) amplitudes.\n",
    "#min_period, max_period = 1, 100  # days\n",
    "#ps = np.exp(np.random.uniform(np.log(min_period), np.log(max_period), N))  # periods\n",
    "#amps = np.random.uniform(10, 300, N)  # ppm"
   ]
  },
  {
   "cell_type": "markdown",
   "metadata": {},
   "source": [
    "Simulate light curves"
   ]
  },
  {
   "cell_type": "code",
   "execution_count": null,
   "metadata": {
    "collapsed": false
   },
   "outputs": [],
   "source": [
    "%%capture\n",
    "amps = np.random.uniform(10, 300, N)  # ppm\n",
    "path = \"simulations\"  # where to save the lcs\n",
    "[simulate_LSST(i, ps[i], amps[i], path) for i in range(N)]  # simulations\n",
    "\n",
    "# save the true values\n",
    "ids = np.arange(N)\n",
    "data = np.vstack((ids, ps, amps))\n",
    "np.savetxt(\"{0}/truth.txt\".format(path), data.T)"
   ]
  },
  {
   "cell_type": "markdown",
   "metadata": {},
   "source": [
    "Load and plot an example light curve"
   ]
  },
  {
   "cell_type": "code",
   "execution_count": null,
   "metadata": {
    "collapsed": false,
    "scrolled": true
   },
   "outputs": [],
   "source": [
    "id = 0\n",
    "sid = str(int(id)).zfill(4)\n",
    "path = \"results\"  # where to save results\n",
    "x, y, yerr = np.genfromtxt(\"simulations/{0}.txt\".format(sid)).T  # load a fake light curve\n",
    "plt.errorbar(x, y, yerr=yerr, fmt=\"k.\", capsize=0)"
   ]
  },
  {
   "cell_type": "markdown",
   "metadata": {},
   "source": [
    "Compute a periodogram"
   ]
  },
  {
   "cell_type": "code",
   "execution_count": null,
   "metadata": {
    "collapsed": false
   },
   "outputs": [],
   "source": [
    "ps = np.linspace(2, 100, 1000)  # the period array (in days)\n",
    "model = LombScargle().fit(x, y, yerr)\n",
    "pgram = model.periodogram(ps)\n",
    "\n",
    "# find peaks\n",
    "peaks = np.array([i for i in range(1, len(ps)-1) if pgram[i-1] < pgram[i] and pgram[i+1] < pgram[i]])\n",
    "if len(peaks):\n",
    "    period = ps[pgram==max(pgram[peaks])][0]\n",
    "else: period = 0\n",
    "\n",
    "plt.plot(ps, pgram)  # plot the pgram\n",
    "plt.axvline(period, color=\"r\")  # plot the position of the highest peak\n",
    "\n",
    "# load and plot the truth\n",
    "ids, true_ps, true_as = np.genfromtxt(\"simulations/truth.txt\").T\n",
    "plt.axvline(true_ps[id], color=\"g\")  # plot the position of the highest peak\n",
    "\n",
    "print(period, true_ps[id])"
   ]
  },
  {
   "cell_type": "markdown",
   "metadata": {},
   "source": [
    "Now compute LS pgrams for a set of LSST light curves and save the highest peak ."
   ]
  },
  {
   "cell_type": "code",
   "execution_count": null,
   "metadata": {
    "collapsed": false
   },
   "outputs": [],
   "source": [
    "ids = np.arange(N)\n",
    "periods = np.zeros_like(ids)\n",
    "for i, id in enumerate(ids):\n",
    "    sid = str(int(id)).zfill(4)\n",
    "    x, y, yerr = np.genfromtxt(\"simulations/{0}.txt\".format(sid)).T  # load a fake light curve\n",
    "\n",
    "    model = LombScargle().fit(x, y, yerr)  # compute pgram\n",
    "    pgram = model.periodogram(ps)\n",
    "\n",
    "    # find peaks\n",
    "    peaks = np.array([i for i in range(1, len(ps)-1) if pgram[i-1] < pgram[i] and pgram[i+1] < pgram[i]])\n",
    "    if len(peaks):\n",
    "        period = ps[pgram==max(pgram[peaks])][0]\n",
    "    else: period = 0\n",
    "\n",
    "    periods[i] = period"
   ]
  },
  {
   "cell_type": "markdown",
   "metadata": {},
   "source": [
    "Plot the recovered periods vs the true periods."
   ]
  },
  {
   "cell_type": "code",
   "execution_count": null,
   "metadata": {
    "collapsed": false
   },
   "outputs": [],
   "source": [
    "plt.plot(true_ps, periods, \"k.\")\n",
    "xs = np.linspace(min(true_ps), max(true_ps), 100)\n",
    "plt.plot(xs, xs, \"r\")\n",
    "\n",
    "tau = .1  # the recovery must be within a factor of *threshold* of the truth\n",
    "plt.plot(xs, xs-tau*xs, \"r--\")\n",
    "plt.plot(xs, xs+tau*xs, \"r--\")"
   ]
  },
  {
   "cell_type": "markdown",
   "metadata": {},
   "source": [
    "Decide whether the recovery was successful or not"
   ]
  },
  {
   "cell_type": "code",
   "execution_count": null,
   "metadata": {
    "collapsed": false
   },
   "outputs": [],
   "source": [
    "m = (true_ps - tau*true_ps < periods) * (periods < true_ps + tau*true_ps)\n",
    "\n",
    "plt.hist(true_ps, color=\"b\")\n",
    "plt.hist(true_ps[m], color=\"r\", alpha=.5)"
   ]
  },
  {
   "cell_type": "markdown",
   "metadata": {},
   "source": [
    "Still need: \n",
    "1. A relation between rotation period and amplitude.\n",
    "2. Calculate clustering on the sky.\n",
    "    - Just calculate the number of detected rotation periods per square degree (need to know the number of square degrees\n",
    "\n",
    "Try to use the same number of bins.\n",
    "Add in the hot stars. \n",
    "amplitude will matter for A stars."
   ]
  },
  {
   "cell_type": "code",
   "execution_count": null,
   "metadata": {
    "collapsed": true
   },
   "outputs": [],
   "source": []
  }
 ],
 "metadata": {
  "kernelspec": {
   "display_name": "Python 3",
   "language": "python",
   "name": "python3"
  },
  "language_info": {
   "codemirror_mode": {
    "name": "ipython",
    "version": 3
   },
   "file_extension": ".py",
   "mimetype": "text/x-python",
   "name": "python",
   "nbconvert_exporter": "python",
   "pygments_lexer": "ipython3",
   "version": "3.5.0"
  }
 },
 "nbformat": 4,
 "nbformat_minor": 0
}
