{
 "cells": [
  {
   "cell_type": "markdown",
   "metadata": {},
   "source": [
    "# Recovering rotation periods in simulated LSST data"
   ]
  },
  {
   "cell_type": "code",
   "execution_count": 1,
   "metadata": {
    "collapsed": false
   },
   "outputs": [],
   "source": [
    "import numpy as np\n",
    "import matplotlib.pyplot as plt\n",
    "from gatspy.periodic import LombScargle\n",
    "import sys\n",
    "%matplotlib inline\n",
    "from toy_simulator import simulate_LSST\n",
    "from trilegal_models import random_stars\n",
    "import simple_gyro as sg\n",
    "import pandas as pd"
   ]
  },
  {
   "cell_type": "markdown",
   "metadata": {},
   "source": [
    "Randomly select targets from a TRILEGAL output."
   ]
  },
  {
   "cell_type": "code",
   "execution_count": 2,
   "metadata": {
    "collapsed": true
   },
   "outputs": [],
   "source": [
    "fname = \"output574523944248.dat\"\n",
    "N = 100\n",
    "logAges, bvs, logTeff, rmag = random_stars(fname, N)\n",
    "teff = 10**logTeff"
   ]
  },
  {
   "cell_type": "markdown",
   "metadata": {},
   "source": [
    "Calculate periods from ages and colours for cool stars"
   ]
  },
  {
   "cell_type": "code",
   "execution_count": 3,
   "metadata": {
    "collapsed": false
   },
   "outputs": [],
   "source": [
    "m = bvs > .4  # select only cool stars\n",
    "cool_ages = 10**logAges[m] * 1e-9\n",
    "cool_ps = sg.period(cool_ages, bvs[m])\n",
    "cool_teffs = teff[m]\n",
    "cool_rmags = rmag[m]"
   ]
  },
  {
   "cell_type": "markdown",
   "metadata": {},
   "source": [
    "Draw from a sum of two Gaussians (modelled in another notebook) that describes the period distribution for hot stars. Approximations: I have lumped all stars with colour < 0.4 in together AND I actually used teff = 6250, not B-V = 0.4 in the other notebook."
   ]
  },
  {
   "cell_type": "code",
   "execution_count": 4,
   "metadata": {
    "collapsed": false
   },
   "outputs": [],
   "source": [
    "hot_ages = 10**logAges[~m] * 1e-9 # select hot stars\n",
    "hot_teffs = teff[~m]\n",
    "hot_rmags = rmag[~m]\n",
    "\n",
    "# copy parameters for two Gaussians from hot_stars ipython notebook\n",
    "A1, A2, mu1, mu2, sig1, sig2 = 254.11651209, 49.8149765, 3.00751724, 3.73399554, 2.26525979, 8.31739725\n",
    "\n",
    "hot_ps = np.zeros_like(hot_ages)\n",
    "hot_ps1 = np.random.randn(int(len(hot_ages)*(1 - A2/A1)))*sig1 + mu1  # mode 1\n",
    "hot_ps2 = np.random.randn(int(len(hot_ages)*(A2/A1)))*sig2 + mu2  # mode 2\n",
    "hot_ps[:len(hot_ps1)] = hot_ps1\n",
    "hot_ps[len(hot_ps1):len(hot_ps2)] = hot_ps2\n",
    "tot = len(hot_ps1) + len(hot_ps2)\n",
    "hot_ps[tot:] = np.random.randn(len(hot_ps)-tot)*sig2 + mu2  # make up the total number of Ps\n",
    "\n",
    "# combine the modes\n",
    "age = np.concatenate((cool_ages, hot_ages))\n",
    "ps = np.concatenate((cool_ps, hot_ps))\n",
    "teff = np.concatenate((cool_teffs, hot_teffs))\n",
    "rmag = np.concatenate((cool_rmags, hot_rmags))"
   ]
  },
  {
   "cell_type": "markdown",
   "metadata": {},
   "source": [
    "Make histograms of the ages and periods"
   ]
  },
  {
   "cell_type": "code",
   "execution_count": 5,
   "metadata": {
    "collapsed": false
   },
   "outputs": [
    {
     "data": {
      "text/plain": [
       "<matplotlib.text.Text at 0x101d28a20>"
      ]
     },
     "execution_count": 5,
     "metadata": {},
     "output_type": "execute_result"
    },
    {
     "data": {
      "image/png": "[encoded data removed]",
      "text/plain": [
       "<matplotlib.figure.Figure at 0x1064d3f28>"
      ]
     },
     "metadata": {},
     "output_type": "display_data"
    }
   ],
   "source": [
    "plt.hist(age)\n",
    "plt.xlabel(\"Age (Gyr)\")"
   ]
  },
  {
   "cell_type": "code",
   "execution_count": 6,
   "metadata": {
    "collapsed": false
   },
   "outputs": [
    {
     "data": {
      "text/plain": [
       "<matplotlib.text.Text at 0x198d83f60>"
      ]
     },
     "execution_count": 6,
     "metadata": {},
     "output_type": "execute_result"
    },
    {
     "data": {
      "image/png": "[encoded data removed]",
      "text/plain": [
       "<matplotlib.figure.Figure at 0x198d9e4a8>"
      ]
     },
     "metadata": {},
     "output_type": "display_data"
    }
   ],
   "source": [
    "plt.hist(ps)\n",
    "plt.xlabel(\"Period (days)\")"
   ]
  },
  {
   "cell_type": "code",
   "execution_count": 7,
   "metadata": {
    "collapsed": false
   },
   "outputs": [
    {
     "data": {
      "text/plain": [
       "<matplotlib.text.Text at 0x198ddbbe0>"
      ]
     },
     "execution_count": 7,
     "metadata": {},
     "output_type": "execute_result"
    },
    {
     "data": {
      "image/png": "[encoded data removed]",
      "text/plain": [
       "<matplotlib.figure.Figure at 0x198e10b38>"
      ]
     },
     "metadata": {},
     "output_type": "display_data"
    }
   ],
   "source": [
    "plt.hist(rmag)\n",
    "plt.xlabel(\"r mag\")"
   ]
  },
  {
   "cell_type": "code",
   "execution_count": 8,
   "metadata": {
    "collapsed": true
   },
   "outputs": [],
   "source": [
    "## Arrays of random (log-normal) periods and (uniform) amplitudes.\n",
    "#min_period, max_period = 1, 100  # days\n",
    "#ps = np.exp(np.random.uniform(np.log(min_period), np.log(max_period), N))  # periods\n",
    "#amps = np.random.uniform(10, 300, N)  # ppm"
   ]
  },
  {
   "cell_type": "markdown",
   "metadata": {},
   "source": [
    "Use Derek's results to calculate amplitudes"
   ]
  },
  {
   "cell_type": "code",
   "execution_count": 9,
   "metadata": {
    "collapsed": false
   },
   "outputs": [
    {
     "data": {
      "text/plain": [
       "<matplotlib.text.Text at 0x1bb706e48>"
      ]
     },
     "execution_count": 9,
     "metadata": {},
     "output_type": "execute_result"
    },
    {
     "data": {
      "image/png": "[encoded data removed]",
      "text/plain": [
       "<matplotlib.figure.Figure at 0x1bb72d5f8>"
      ]
     },
     "metadata": {},
     "output_type": "display_data"
    }
   ],
   "source": [
    "# Column headings: log10P, log10R, stdR, Nbin\n",
    "teff_bins = [3500, 4000, 4500, 5000, 5500, 6000]\n",
    "d35 = pd.read_csv(\"data/rot_v_act3500.txt\")\n",
    "d40 = pd.read_csv(\"data/rot_v_act4000.txt\")\n",
    "d45 = pd.read_csv(\"data/rot_v_act4500.txt\")\n",
    "d50 = pd.read_csv(\"data/rot_v_act5000.txt\")\n",
    "d55 = pd.read_csv(\"data/rot_v_act5500.txt\")\n",
    "d60 = pd.read_csv(\"data/rot_v_act6000.txt\")\n",
    "\n",
    "plt.step(d35[\"log10P\"], d35[\"log10R\"], label=\"T=3500\")\n",
    "plt.step(d40[\"log10P\"], d40[\"log10R\"], label=\"T=4000\")\n",
    "plt.step(d45[\"log10P\"], d45[\"log10R\"], label=\"T=4500\")\n",
    "plt.step(d50[\"log10P\"], d50[\"log10R\"], label=\"T=5000\")\n",
    "plt.step(d55[\"log10P\"], d55[\"log10R\"], label=\"T=5500\")\n",
    "plt.step(d60[\"log10P\"], d60[\"log10R\"], label=\"T=6000\")\n",
    "plt.legend()\n",
    "plt.xlabel(\"log Period\")\n",
    "plt.ylabel(\"log Range\")"
   ]
  },
  {
   "cell_type": "markdown",
   "metadata": {},
   "source": [
    "Assign amplitudes"
   ]
  },
  {
   "cell_type": "code",
   "execution_count": 10,
   "metadata": {
    "collapsed": false
   },
   "outputs": [],
   "source": [
    "def find_nearest (array, value):\n",
    "    \"\"\"\n",
    "    Match a period to a bin.\n",
    "    array: array of bin heights.\n",
    "    value: the period of the star.\n",
    "    Returns the value and index of the bin.\n",
    "    \"\"\"\n",
    "    m = np.abs(array-value) == np.abs(array-value).min()\n",
    "    return array[m], m\n",
    "\n",
    "def assign_amps(ps, log10P, log10R, stdR):\n",
    "    \"\"\"\n",
    "    Take periods and bin values and return an array of amplitudes.\n",
    "    \"\"\"\n",
    "    npi = np.array([find_nearest(10**log10P, p) for p in ps])  # match periods to bins\n",
    "    nearest_ps, inds = npi[:, 0], npi[:, 1]\n",
    "    log_ranges = np.array([log10R[i] for i in inds])[:, 0]  # array of ranges for each *\n",
    "    std_ranges = np.array([stdR[i] for i in inds])[:, 0]  # array of stdevs in range for each *\n",
    "    return np.random.randn(len(ps))*std_ranges + log_ranges  # draw amps from Gaussians\n",
    "\n",
    "def make_arrays(data, temp_bin):\n",
    "    \"\"\"\n",
    "    Amplitude arrays for each temperature bin\n",
    "    \"\"\"\n",
    "    P, R, std = np.array(data[\"log10P\"]), np.array(data[\"log10R\"]), np.array(data[\"stdR\"])\n",
    "    if temp_bin == 3500:\n",
    "        m = teff < 3750\n",
    "    elif temp_bin == 6000:\n",
    "        m = teff > 6000\n",
    "    else:\n",
    "        m = (temp_bin - 250 < teff) * (teff < temp_bin + 250)\n",
    "    periods, teffs, rmags = ps[m], teff[m], rmag[m]\n",
    "    amplitudes = assign_amps(periods, P, R, std)\n",
    "    return periods, amplitudes, teffs, rmags\n",
    "\n",
    "def LSST_sig(m):\n",
    "    \"\"\"\n",
    "    Approximate the noise in figure 2 of arxiv:1603.06638 from the apparent r-mag.\n",
    "    Returns the noise in magnitudes and ppm.\n",
    "    \"\"\"\n",
    "    if m < 19:\n",
    "        return .005\n",
    "    mags = np.array([19, 20, 21, 22, 23, 24, 25])\n",
    "    sigs = np.array([.005, .007, .01, .02, .03, .1, .2])\n",
    "    return sigs[np.abs(mags - m) == np.abs(mags-m).min()][0]\n",
    "\n",
    "pers, logamps, teffs, rmags = np.concatenate((make_arrays(d35, 3500), make_arrays(d40, 4000), \n",
    "                                              make_arrays(d45, 4500), make_arrays(d50, 5000), \n",
    "                                              make_arrays(d55, 5500), make_arrays(d60, 6000)), axis=1)\n",
    "amps = 10**logamps  # parts per million\n",
    "noise = LSST_sig(rmag[0])\n",
    "noises_mag = np.array([LSST_sig(mag) for mag in rmags])\n",
    "noises_ppm = (1 - 10**(-noises_mag/2.5)) * 1e6"
   ]
  },
  {
   "cell_type": "markdown",
   "metadata": {},
   "source": [
    "Simulate light curves"
   ]
  },
  {
   "cell_type": "code",
   "execution_count": 11,
   "metadata": {
    "collapsed": false
   },
   "outputs": [
    {
     "data": {
      "text/plain": [
       "[None,\n",
       " None,\n",
       " None,\n",
       " None,\n",
       " None,\n",
       " None,\n",
       " None,\n",
       " None,\n",
       " None,\n",
       " None,\n",
       " None,\n",
       " None,\n",
       " None,\n",
       " None,\n",
       " None,\n",
       " None,\n",
       " None,\n",
       " None,\n",
       " None,\n",
       " None,\n",
       " None,\n",
       " None,\n",
       " None,\n",
       " None,\n",
       " None,\n",
       " None,\n",
       " None,\n",
       " None,\n",
       " None,\n",
       " None,\n",
       " None,\n",
       " None,\n",
       " None,\n",
       " None,\n",
       " None,\n",
       " None,\n",
       " None,\n",
       " None,\n",
       " None,\n",
       " None,\n",
       " None,\n",
       " None,\n",
       " None,\n",
       " None,\n",
       " None,\n",
       " None,\n",
       " None,\n",
       " None,\n",
       " None,\n",
       " None,\n",
       " None,\n",
       " None,\n",
       " None,\n",
       " None,\n",
       " None,\n",
       " None,\n",
       " None,\n",
       " None,\n",
       " None,\n",
       " None,\n",
       " None,\n",
       " None,\n",
       " None,\n",
       " None,\n",
       " None,\n",
       " None,\n",
       " None,\n",
       " None,\n",
       " None,\n",
       " None,\n",
       " None,\n",
       " None,\n",
       " None,\n",
       " None,\n",
       " None,\n",
       " None,\n",
       " None,\n",
       " None,\n",
       " None,\n",
       " None,\n",
       " None,\n",
       " None,\n",
       " None,\n",
       " None,\n",
       " None,\n",
       " None,\n",
       " None,\n",
       " None,\n",
       " None,\n",
       " None,\n",
       " None,\n",
       " None,\n",
       " None,\n",
       " None,\n",
       " None,\n",
       " None,\n",
       " None,\n",
       " None,\n",
       " None]"
      ]
     },
     "execution_count": 11,
     "metadata": {},
     "output_type": "execute_result"
    }
   ],
   "source": [
    "%%capture\n",
    "# amps = np.random.uniform(10, 300, N)  # ppm\n",
    "path = \"simulations\"  # where to save the lcs\n",
    "[simulate_LSST(i, pers[i], amps[i], path, noises_ppm[i]) for i in range(len(pers))]  # simulations"
   ]
  },
  {
   "cell_type": "code",
   "execution_count": 12,
   "metadata": {
    "collapsed": false
   },
   "outputs": [],
   "source": [
    "# save the true values\n",
    "ids = np.arange(len(pers))\n",
    "data = np.vstack((ids, pers, amps))\n",
    "np.savetxt(\"{0}/truth.txt\".format(path), data.T)"
   ]
  },
  {
   "cell_type": "markdown",
   "metadata": {},
   "source": [
    "Load and plot an example light curve"
   ]
  },
  {
   "cell_type": "code",
   "execution_count": 13,
   "metadata": {
    "collapsed": false,
    "scrolled": true
   },
   "outputs": [
    {
     "data": {
      "text/plain": [
       "<Container object of 3 artists>"
      ]
     },
     "execution_count": 13,
     "metadata": {},
     "output_type": "execute_result"
    },
    {
     "name": "stderr",
     "output_type": "stream",
     "text": [
      "/Users/ruthangus/anaconda/lib/python3.5/site-packages/matplotlib/collections.py:590: FutureWarning: elementwise comparison failed; returning scalar instead, but in the future will perform elementwise comparison\n",
      "  if self._edgecolors == str('face'):\n"
     ]
    },
    {
     "data": {
      "image/png": "[encoded data removed]",
      "text/plain": [
       "<matplotlib.figure.Figure at 0x1bb6fce80>"
      ]
     },
     "metadata": {},
     "output_type": "display_data"
    }
   ],
   "source": [
    "id = 0\n",
    "sid = str(int(id)).zfill(4)\n",
    "path = \"results\"  # where to save results\n",
    "x, y, yerr = np.genfromtxt(\"simulations/{0}.txt\".format(sid)).T  # load a fake light curve\n",
    "plt.errorbar(x, y, yerr=yerr, fmt=\"k.\", capsize=0)"
   ]
  },
  {
   "cell_type": "markdown",
   "metadata": {},
   "source": [
    "Compute a periodogram"
   ]
  },
  {
   "cell_type": "code",
   "execution_count": 14,
   "metadata": {
    "collapsed": false
   },
   "outputs": [
    {
     "name": "stdout",
     "output_type": "stream",
     "text": [
      "18.8728728729 18.1061220578\n"
     ]
    },
    {
     "data": {
      "image/png": "[encoded data removed]",
      "text/plain": [
       "<matplotlib.figure.Figure at 0x1fb1f7b38>"
      ]
     },
     "metadata": {},
     "output_type": "display_data"
    }
   ],
   "source": [
    "ps = np.linspace(2, 100, 1000)  # the period array (in days)\n",
    "model = LombScargle().fit(x, y, yerr)\n",
    "pgram = model.periodogram(ps)\n",
    "\n",
    "# find peaks\n",
    "peaks = np.array([i for i in range(1, len(ps)-1) if pgram[i-1] < pgram[i] and pgram[i+1] < pgram[i]])\n",
    "if len(peaks):\n",
    "    period = ps[pgram==max(pgram[peaks])][0]\n",
    "else: period = 0\n",
    "\n",
    "plt.plot(ps, pgram)  # plot the pgram\n",
    "plt.axvline(period, color=\"r\")  # plot the position of the highest peak\n",
    "\n",
    "# load and plot the truth\n",
    "ids, true_ps, true_as = np.genfromtxt(\"simulations/truth.txt\").T\n",
    "plt.axvline(true_ps[id], color=\"g\")  # plot the position of the highest peak\n",
    "\n",
    "print(period, true_ps[id])"
   ]
  },
  {
   "cell_type": "markdown",
   "metadata": {},
   "source": [
    "Now compute LS pgrams for a set of LSST light curves and save the highest peak ."
   ]
  },
  {
   "cell_type": "code",
   "execution_count": 15,
   "metadata": {
    "collapsed": false
   },
   "outputs": [],
   "source": [
    "ids = np.arange(len(pers))\n",
    "periods = np.zeros_like(ids)\n",
    "for i, id in enumerate(ids):\n",
    "    sid = str(int(id)).zfill(4)\n",
    "    x, y, yerr = np.genfromtxt(\"simulations/{0}.txt\".format(sid)).T  # load a fake light curve\n",
    "\n",
    "    model = LombScargle().fit(x, y, yerr)  # compute pgram\n",
    "    pgram = model.periodogram(ps)\n",
    "\n",
    "    # find peaks\n",
    "    peaks = np.array([i for i in range(1, len(ps)-1) if pgram[i-1] < pgram[i] and pgram[i+1] < pgram[i]])\n",
    "    if len(peaks):\n",
    "        period = ps[pgram==max(pgram[peaks])][0]\n",
    "    else: period = 0\n",
    "\n",
    "    periods[i] = period"
   ]
  },
  {
   "cell_type": "markdown",
   "metadata": {},
   "source": [
    "Save the data"
   ]
  },
  {
   "cell_type": "code",
   "execution_count": 16,
   "metadata": {
    "collapsed": false
   },
   "outputs": [],
   "source": [
    "data = np.vstack((true_ps, periods, teffs, rmags, true_as, noises_ppm))\n",
    "np.savetxt(\"rotation_results{0}.txt\".format(fname), data.T)"
   ]
  },
  {
   "cell_type": "markdown",
   "metadata": {},
   "source": [
    "Plot the recovered periods vs the true periods."
   ]
  },
  {
   "cell_type": "code",
   "execution_count": 17,
   "metadata": {
    "collapsed": false
   },
   "outputs": [
    {
     "data": {
      "text/plain": [
       "[<matplotlib.lines.Line2D at 0x1e1a86b00>]"
      ]
     },
     "execution_count": 17,
     "metadata": {},
     "output_type": "execute_result"
    },
    {
     "data": {
      "image/png": "[encoded data removed]",
      "text/plain": [
       "<matplotlib.figure.Figure at 0x1e1a86d68>"
      ]
     },
     "metadata": {},
     "output_type": "display_data"
    }
   ],
   "source": [
    "plt.plot(true_ps, periods, \"k.\")\n",
    "xs = np.linspace(min(true_ps), max(true_ps), 100)\n",
    "plt.plot(xs, xs, \"r\")\n",
    "\n",
    "tau = .1  # the recovery must be within a factor of *threshold* of the truth\n",
    "plt.plot(xs, xs-tau*xs, \"r--\")\n",
    "plt.plot(xs, xs+tau*xs, \"r--\")"
   ]
  },
  {
   "cell_type": "markdown",
   "metadata": {},
   "source": [
    "Decide whether the recovery was successful or not"
   ]
  },
  {
   "cell_type": "code",
   "execution_count": 18,
   "metadata": {
    "collapsed": false
   },
   "outputs": [
    {
     "name": "stdout",
     "output_type": "stream",
     "text": [
      "99 injected 66 recovered\n",
      "66.66666666666666 percent success\n"
     ]
    },
    {
     "data": {
      "image/png": "[encoded data removed]",
      "text/plain": [
       "<matplotlib.figure.Figure at 0x1ee6444a8>"
      ]
     },
     "metadata": {},
     "output_type": "display_data"
    }
   ],
   "source": [
    "m = (true_ps - tau*true_ps < periods) * (periods < true_ps + tau*true_ps)\n",
    "\n",
    "plt.hist(true_ps, 15, color=\"b\", label=\"all\")\n",
    "plt.hist(true_ps[m], 15, color=\"r\", alpha=.5, label=\"recovered\")\n",
    "plt.legend(loc=\"best\")\n",
    "print(len(true_ps), \"injected\", len(true_ps[m]), \"recovered\")\n",
    "print(len(true_ps[m])/len(true_ps)*100, \"percent success\")"
   ]
  },
  {
   "cell_type": "code",
   "execution_count": null,
   "metadata": {
    "collapsed": true
   },
   "outputs": [],
   "source": []
  }
 ],
 "metadata": {
  "kernelspec": {
   "display_name": "Python 3",
   "language": "python",
   "name": "python3"
  },
  "language_info": {
   "codemirror_mode": {
    "name": "ipython",
    "version": 3
   },
   "file_extension": ".py",
   "mimetype": "text/x-python",
   "name": "python",
   "nbconvert_exporter": "python",
   "pygments_lexer": "ipython3",
   "version": "3.5.0"
  }
 },
 "nbformat": 4,
 "nbformat_minor": 0
}
